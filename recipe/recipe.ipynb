{
 "cells": [
  {
   "cell_type": "code",
   "execution_count": 116,
   "metadata": {},
   "outputs": [],
   "source": [
    "import numpy as np\n",
    "import pandas as pd"
   ]
  },
  {
   "cell_type": "code",
   "execution_count": 117,
   "metadata": {},
   "outputs": [],
   "source": [
    "reci=pd.read_csv('recipe-1.csv')"
   ]
  },
  {
   "cell_type": "code",
   "execution_count": 118,
   "metadata": {},
   "outputs": [
    {
     "data": {
      "text/html": [
       "<div>\n",
       "<style scoped>\n",
       "    .dataframe tbody tr th:only-of-type {\n",
       "        vertical-align: middle;\n",
       "    }\n",
       "\n",
       "    .dataframe tbody tr th {\n",
       "        vertical-align: top;\n",
       "    }\n",
       "\n",
       "    .dataframe thead th {\n",
       "        text-align: right;\n",
       "    }\n",
       "</style>\n",
       "<table border=\"1\" class=\"dataframe\">\n",
       "  <thead>\n",
       "    <tr style=\"text-align: right;\">\n",
       "      <th></th>\n",
       "      <th>Recipe_name</th>\n",
       "      <th>Author</th>\n",
       "      <th>Date_published</th>\n",
       "      <th>Category</th>\n",
       "      <th>Cuisine</th>\n",
       "      <th>Prep_time</th>\n",
       "      <th>Cook_time</th>\n",
       "      <th>Serving</th>\n",
       "      <th>Yield</th>\n",
       "      <th>Nutrition</th>\n",
       "      <th>Quantity</th>\n",
       "      <th>Unit</th>\n",
       "      <th>Ingredient</th>\n",
       "    </tr>\n",
       "  </thead>\n",
       "  <tbody>\n",
       "    <tr>\n",
       "      <th>0</th>\n",
       "      <td>Chicken and Strawberry Salad Recipe</td>\n",
       "      <td>TNN</td>\n",
       "      <td>2016-08-28T16:00:47+05:30</td>\n",
       "      <td>Salads</td>\n",
       "      <td>Continental</td>\n",
       "      <td>PT10M</td>\n",
       "      <td>PT20M</td>\n",
       "      <td>4 Servings</td>\n",
       "      <td>1 bowl</td>\n",
       "      <td>352 cal</td>\n",
       "      <td>['2']</td>\n",
       "      <td>['tablespoon']</td>\n",
       "      <td>['walnuts']</td>\n",
       "    </tr>\n",
       "    <tr>\n",
       "      <th>1</th>\n",
       "      <td>Chicken and Strawberry Salad Recipe</td>\n",
       "      <td>TNN</td>\n",
       "      <td>2016-08-28T16:00:47+05:30</td>\n",
       "      <td>Salads</td>\n",
       "      <td>Continental</td>\n",
       "      <td>PT10M</td>\n",
       "      <td>PT20M</td>\n",
       "      <td>4 Servings</td>\n",
       "      <td>1 bowl</td>\n",
       "      <td>352 cal</td>\n",
       "      <td>['3']</td>\n",
       "      <td>['Numbers']</td>\n",
       "      <td>['spring onions']</td>\n",
       "    </tr>\n",
       "    <tr>\n",
       "      <th>2</th>\n",
       "      <td>Chicken and Strawberry Salad Recipe</td>\n",
       "      <td>TNN</td>\n",
       "      <td>2016-08-28T16:00:47+05:30</td>\n",
       "      <td>Salads</td>\n",
       "      <td>Continental</td>\n",
       "      <td>PT10M</td>\n",
       "      <td>PT20M</td>\n",
       "      <td>4 Servings</td>\n",
       "      <td>1 bowl</td>\n",
       "      <td>352 cal</td>\n",
       "      <td>['1']</td>\n",
       "      <td>['tablespoon']</td>\n",
       "      <td>['white wine vinegar']</td>\n",
       "    </tr>\n",
       "    <tr>\n",
       "      <th>3</th>\n",
       "      <td>Chicken and Strawberry Salad Recipe</td>\n",
       "      <td>TNN</td>\n",
       "      <td>2016-08-28T16:00:47+05:30</td>\n",
       "      <td>Salads</td>\n",
       "      <td>Continental</td>\n",
       "      <td>PT10M</td>\n",
       "      <td>PT20M</td>\n",
       "      <td>4 Servings</td>\n",
       "      <td>1 bowl</td>\n",
       "      <td>352 cal</td>\n",
       "      <td>['1']</td>\n",
       "      <td>['handful']</td>\n",
       "      <td>['lettuce loose-leaf']</td>\n",
       "    </tr>\n",
       "    <tr>\n",
       "      <th>4</th>\n",
       "      <td>Chicken and Strawberry Salad Recipe</td>\n",
       "      <td>TNN</td>\n",
       "      <td>2016-08-28T16:00:47+05:30</td>\n",
       "      <td>Salads</td>\n",
       "      <td>Continental</td>\n",
       "      <td>PT10M</td>\n",
       "      <td>PT20M</td>\n",
       "      <td>4 Servings</td>\n",
       "      <td>1 bowl</td>\n",
       "      <td>352 cal</td>\n",
       "      <td>['1/4']</td>\n",
       "      <td>['teaspoon']</td>\n",
       "      <td>['garam masala powder']</td>\n",
       "    </tr>\n",
       "  </tbody>\n",
       "</table>\n",
       "</div>"
      ],
      "text/plain": [
       "                            Recipe_name Author             Date_published  \\\n",
       "0  Chicken and Strawberry Salad Recipe    TNN  2016-08-28T16:00:47+05:30   \n",
       "1  Chicken and Strawberry Salad Recipe    TNN  2016-08-28T16:00:47+05:30   \n",
       "2  Chicken and Strawberry Salad Recipe    TNN  2016-08-28T16:00:47+05:30   \n",
       "3  Chicken and Strawberry Salad Recipe    TNN  2016-08-28T16:00:47+05:30   \n",
       "4  Chicken and Strawberry Salad Recipe    TNN  2016-08-28T16:00:47+05:30   \n",
       "\n",
       "  Category      Cuisine Prep_time Cook_time     Serving   Yield Nutrition  \\\n",
       "0   Salads  Continental     PT10M     PT20M  4 Servings  1 bowl   352 cal   \n",
       "1   Salads  Continental     PT10M     PT20M  4 Servings  1 bowl   352 cal   \n",
       "2   Salads  Continental     PT10M     PT20M  4 Servings  1 bowl   352 cal   \n",
       "3   Salads  Continental     PT10M     PT20M  4 Servings  1 bowl   352 cal   \n",
       "4   Salads  Continental     PT10M     PT20M  4 Servings  1 bowl   352 cal   \n",
       "\n",
       "  Quantity            Unit               Ingredient  \n",
       "0    ['2']  ['tablespoon']              ['walnuts']  \n",
       "1    ['3']     ['Numbers']        ['spring onions']  \n",
       "2    ['1']  ['tablespoon']   ['white wine vinegar']  \n",
       "3    ['1']     ['handful']   ['lettuce loose-leaf']  \n",
       "4  ['1/4']    ['teaspoon']  ['garam masala powder']  "
      ]
     },
     "execution_count": 118,
     "metadata": {},
     "output_type": "execute_result"
    }
   ],
   "source": [
    "reci.head()"
   ]
  },
  {
   "cell_type": "code",
   "execution_count": 119,
   "metadata": {},
   "outputs": [
    {
     "data": {
      "text/plain": [
       "TNN    36735\n",
       "Name: Author, dtype: int64"
      ]
     },
     "execution_count": 119,
     "metadata": {},
     "output_type": "execute_result"
    }
   ],
   "source": [
    "reci.Author.value_counts()"
   ]
  },
  {
   "cell_type": "code",
   "execution_count": 120,
   "metadata": {},
   "outputs": [
    {
     "data": {
      "text/plain": [
       "Recipe_name          0\n",
       "Author               0\n",
       "Date_published       0\n",
       "Category             0\n",
       "Cuisine           3313\n",
       "Prep_time            0\n",
       "Cook_time            0\n",
       "Serving              0\n",
       "Yield                0\n",
       "Nutrition            0\n",
       "Quantity             0\n",
       "Unit                 0\n",
       "Ingredient           0\n",
       "dtype: int64"
      ]
     },
     "execution_count": 120,
     "metadata": {},
     "output_type": "execute_result"
    }
   ],
   "source": [
    "# Checking null values\n",
    "reci.isnull().sum()"
   ]
  },
  {
   "cell_type": "code",
   "execution_count": 121,
   "metadata": {},
   "outputs": [
    {
     "name": "stdout",
     "output_type": "stream",
     "text": [
      "<class 'pandas.core.frame.DataFrame'>\n",
      "RangeIndex: 36735 entries, 0 to 36734\n",
      "Data columns (total 13 columns):\n",
      "Recipe_name       36735 non-null object\n",
      "Author            36735 non-null object\n",
      "Date_published    36735 non-null object\n",
      "Category          36735 non-null object\n",
      "Cuisine           33422 non-null object\n",
      "Prep_time         36735 non-null object\n",
      "Cook_time         36735 non-null object\n",
      "Serving           36735 non-null object\n",
      "Yield             36735 non-null object\n",
      "Nutrition         36735 non-null object\n",
      "Quantity          36735 non-null object\n",
      "Unit              36735 non-null object\n",
      "Ingredient        36735 non-null object\n",
      "dtypes: object(13)\n",
      "memory usage: 3.6+ MB\n"
     ]
    }
   ],
   "source": [
    "reci.info()"
   ]
  },
  {
   "cell_type": "code",
   "execution_count": 122,
   "metadata": {},
   "outputs": [],
   "source": [
    "# Extracting Year column from Date_Published column\n",
    "reci['Year']=reci.Date_published.apply(lambda x:x.split('-')[0])"
   ]
  },
  {
   "cell_type": "code",
   "execution_count": 123,
   "metadata": {},
   "outputs": [
    {
     "data": {
      "text/plain": [
       "2016    20668\n",
       "2017    14861\n",
       "2018     1206\n",
       "Name: Year, dtype: int64"
      ]
     },
     "execution_count": 123,
     "metadata": {},
     "output_type": "execute_result"
    }
   ],
   "source": [
    "reci.Year.value_counts()"
   ]
  },
  {
   "cell_type": "code",
   "execution_count": 124,
   "metadata": {},
   "outputs": [],
   "source": [
    "#Cleaning Ingredient column removing special characters\n",
    "ing=[]\n",
    "for i in reci.Ingredient:\n",
    "    s=''\n",
    "    for j in i:\n",
    "        if(j.isalpha() or j==' '):\n",
    "            s+=j\n",
    "    ing.append(s)"
   ]
  },
  {
   "cell_type": "code",
   "execution_count": 125,
   "metadata": {},
   "outputs": [
    {
     "data": {
      "text/plain": [
       "['walnuts',\n",
       " 'spring onions',\n",
       " 'white wine vinegar',\n",
       " 'lettuce looseleaf',\n",
       " 'garam masala powder',\n",
       " 'salt',\n",
       " 'strawberry',\n",
       " 'mayonnaise',\n",
       " 'onion',\n",
       " 'chicken breasts']"
      ]
     },
     "execution_count": 125,
     "metadata": {},
     "output_type": "execute_result"
    }
   ],
   "source": [
    "ing[:10]"
   ]
  },
  {
   "cell_type": "code",
   "execution_count": 126,
   "metadata": {},
   "outputs": [],
   "source": [
    "# Putting modified ingredient content in original DataFrame\n",
    "reci['Ingredient']=ing"
   ]
  },
  {
   "cell_type": "code",
   "execution_count": 127,
   "metadata": {},
   "outputs": [],
   "source": [
    "# Cleaning Unit column removing special characters\n",
    "unit=[]\n",
    "for i in reci.Unit:\n",
    "    s=''\n",
    "    for j in i:\n",
    "        if(j.isalpha() or j==' '):\n",
    "            s+=j\n",
    "    unit.append(s)"
   ]
  },
  {
   "cell_type": "code",
   "execution_count": 128,
   "metadata": {},
   "outputs": [
    {
     "data": {
      "text/plain": [
       "['tablespoon',\n",
       " 'Numbers',\n",
       " 'tablespoon',\n",
       " 'handful',\n",
       " 'teaspoon',\n",
       " 'pinch',\n",
       " 'cup',\n",
       " 'cup',\n",
       " 'cup',\n",
       " 'cup']"
      ]
     },
     "execution_count": 128,
     "metadata": {},
     "output_type": "execute_result"
    }
   ],
   "source": [
    "unit[:10]"
   ]
  },
  {
   "cell_type": "code",
   "execution_count": 129,
   "metadata": {},
   "outputs": [],
   "source": [
    "# Putting modified unit content in original DataFrame\n",
    "reci['Unit']=unit"
   ]
  },
  {
   "cell_type": "code",
   "execution_count": 130,
   "metadata": {},
   "outputs": [
    {
     "data": {
      "text/html": [
       "<div>\n",
       "<style scoped>\n",
       "    .dataframe tbody tr th:only-of-type {\n",
       "        vertical-align: middle;\n",
       "    }\n",
       "\n",
       "    .dataframe tbody tr th {\n",
       "        vertical-align: top;\n",
       "    }\n",
       "\n",
       "    .dataframe thead th {\n",
       "        text-align: right;\n",
       "    }\n",
       "</style>\n",
       "<table border=\"1\" class=\"dataframe\">\n",
       "  <thead>\n",
       "    <tr style=\"text-align: right;\">\n",
       "      <th></th>\n",
       "      <th>Recipe_name</th>\n",
       "      <th>Author</th>\n",
       "      <th>Date_published</th>\n",
       "      <th>Category</th>\n",
       "      <th>Cuisine</th>\n",
       "      <th>Prep_time</th>\n",
       "      <th>Cook_time</th>\n",
       "      <th>Serving</th>\n",
       "      <th>Yield</th>\n",
       "      <th>Nutrition</th>\n",
       "      <th>Quantity</th>\n",
       "      <th>Unit</th>\n",
       "      <th>Ingredient</th>\n",
       "      <th>Year</th>\n",
       "    </tr>\n",
       "  </thead>\n",
       "  <tbody>\n",
       "    <tr>\n",
       "      <th>0</th>\n",
       "      <td>Chicken and Strawberry Salad Recipe</td>\n",
       "      <td>TNN</td>\n",
       "      <td>2016-08-28T16:00:47+05:30</td>\n",
       "      <td>Salads</td>\n",
       "      <td>Continental</td>\n",
       "      <td>PT10M</td>\n",
       "      <td>PT20M</td>\n",
       "      <td>4 Servings</td>\n",
       "      <td>1 bowl</td>\n",
       "      <td>352 cal</td>\n",
       "      <td>['2']</td>\n",
       "      <td>tablespoon</td>\n",
       "      <td>walnuts</td>\n",
       "      <td>2016</td>\n",
       "    </tr>\n",
       "    <tr>\n",
       "      <th>1</th>\n",
       "      <td>Chicken and Strawberry Salad Recipe</td>\n",
       "      <td>TNN</td>\n",
       "      <td>2016-08-28T16:00:47+05:30</td>\n",
       "      <td>Salads</td>\n",
       "      <td>Continental</td>\n",
       "      <td>PT10M</td>\n",
       "      <td>PT20M</td>\n",
       "      <td>4 Servings</td>\n",
       "      <td>1 bowl</td>\n",
       "      <td>352 cal</td>\n",
       "      <td>['3']</td>\n",
       "      <td>Numbers</td>\n",
       "      <td>spring onions</td>\n",
       "      <td>2016</td>\n",
       "    </tr>\n",
       "    <tr>\n",
       "      <th>2</th>\n",
       "      <td>Chicken and Strawberry Salad Recipe</td>\n",
       "      <td>TNN</td>\n",
       "      <td>2016-08-28T16:00:47+05:30</td>\n",
       "      <td>Salads</td>\n",
       "      <td>Continental</td>\n",
       "      <td>PT10M</td>\n",
       "      <td>PT20M</td>\n",
       "      <td>4 Servings</td>\n",
       "      <td>1 bowl</td>\n",
       "      <td>352 cal</td>\n",
       "      <td>['1']</td>\n",
       "      <td>tablespoon</td>\n",
       "      <td>white wine vinegar</td>\n",
       "      <td>2016</td>\n",
       "    </tr>\n",
       "    <tr>\n",
       "      <th>3</th>\n",
       "      <td>Chicken and Strawberry Salad Recipe</td>\n",
       "      <td>TNN</td>\n",
       "      <td>2016-08-28T16:00:47+05:30</td>\n",
       "      <td>Salads</td>\n",
       "      <td>Continental</td>\n",
       "      <td>PT10M</td>\n",
       "      <td>PT20M</td>\n",
       "      <td>4 Servings</td>\n",
       "      <td>1 bowl</td>\n",
       "      <td>352 cal</td>\n",
       "      <td>['1']</td>\n",
       "      <td>handful</td>\n",
       "      <td>lettuce looseleaf</td>\n",
       "      <td>2016</td>\n",
       "    </tr>\n",
       "    <tr>\n",
       "      <th>4</th>\n",
       "      <td>Chicken and Strawberry Salad Recipe</td>\n",
       "      <td>TNN</td>\n",
       "      <td>2016-08-28T16:00:47+05:30</td>\n",
       "      <td>Salads</td>\n",
       "      <td>Continental</td>\n",
       "      <td>PT10M</td>\n",
       "      <td>PT20M</td>\n",
       "      <td>4 Servings</td>\n",
       "      <td>1 bowl</td>\n",
       "      <td>352 cal</td>\n",
       "      <td>['1/4']</td>\n",
       "      <td>teaspoon</td>\n",
       "      <td>garam masala powder</td>\n",
       "      <td>2016</td>\n",
       "    </tr>\n",
       "  </tbody>\n",
       "</table>\n",
       "</div>"
      ],
      "text/plain": [
       "                            Recipe_name Author             Date_published  \\\n",
       "0  Chicken and Strawberry Salad Recipe    TNN  2016-08-28T16:00:47+05:30   \n",
       "1  Chicken and Strawberry Salad Recipe    TNN  2016-08-28T16:00:47+05:30   \n",
       "2  Chicken and Strawberry Salad Recipe    TNN  2016-08-28T16:00:47+05:30   \n",
       "3  Chicken and Strawberry Salad Recipe    TNN  2016-08-28T16:00:47+05:30   \n",
       "4  Chicken and Strawberry Salad Recipe    TNN  2016-08-28T16:00:47+05:30   \n",
       "\n",
       "  Category      Cuisine Prep_time Cook_time     Serving   Yield Nutrition  \\\n",
       "0   Salads  Continental     PT10M     PT20M  4 Servings  1 bowl   352 cal   \n",
       "1   Salads  Continental     PT10M     PT20M  4 Servings  1 bowl   352 cal   \n",
       "2   Salads  Continental     PT10M     PT20M  4 Servings  1 bowl   352 cal   \n",
       "3   Salads  Continental     PT10M     PT20M  4 Servings  1 bowl   352 cal   \n",
       "4   Salads  Continental     PT10M     PT20M  4 Servings  1 bowl   352 cal   \n",
       "\n",
       "  Quantity        Unit           Ingredient  Year  \n",
       "0    ['2']  tablespoon              walnuts  2016  \n",
       "1    ['3']     Numbers        spring onions  2016  \n",
       "2    ['1']  tablespoon   white wine vinegar  2016  \n",
       "3    ['1']     handful    lettuce looseleaf  2016  \n",
       "4  ['1/4']    teaspoon  garam masala powder  2016  "
      ]
     },
     "execution_count": 130,
     "metadata": {},
     "output_type": "execute_result"
    }
   ],
   "source": [
    "reci.head()"
   ]
  },
  {
   "cell_type": "code",
   "execution_count": 131,
   "metadata": {},
   "outputs": [],
   "source": [
    "#Easier way to get rid of special characters in Quantity Column\n",
    "reci.Quantity=reci.Quantity.str.replace(\"[\",'')\n",
    "reci.Quantity=reci.Quantity.str.replace(\"]\",'')\n",
    "reci.Quantity=reci.Quantity.str.replace(\"'\",'')\n",
    "reci.Quantity=reci.Quantity.str.replace(\"'\",'')"
   ]
  },
  {
   "cell_type": "code",
   "execution_count": 132,
   "metadata": {},
   "outputs": [
    {
     "data": {
      "text/plain": [
       "1        10436\n",
       "2         6759\n",
       "1/2       4878\n",
       "4         2095\n",
       "1/4       1893\n",
       "3         1678\n",
       "0         1120\n",
       "1 1/2      747\n",
       "5          643\n",
       "6          608\n",
       "100        567\n",
       "10         498\n",
       "8          366\n",
       "50         362\n",
       "250        350\n",
       "200        318\n",
       "500        276\n",
       "3/4        241\n",
       "20         196\n",
       "30         186\n",
       "400        181\n",
       "15         163\n",
       "150        159\n",
       "2 1/2      156\n",
       "1/3        135\n",
       "125        131\n",
       "60         129\n",
       "300        125\n",
       "7          113\n",
       "1/8         94\n",
       "         ...  \n",
       "3 1/4        1\n",
       "439          1\n",
       "4.0          1\n",
       "635          1\n",
       "460          1\n",
       "390          1\n",
       "128          1\n",
       "578          1\n",
       "1250         1\n",
       "32           1\n",
       "0.2          1\n",
       "355          1\n",
       "410          1\n",
       "118          1\n",
       "650          1\n",
       "440          1\n",
       "28           1\n",
       "560          1\n",
       "13           1\n",
       "255          1\n",
       "62           1\n",
       "59           1\n",
       "370          1\n",
       "155          1\n",
       "26           1\n",
       "4 1/4        1\n",
       "470          1\n",
       "227          1\n",
       "245          1\n",
       "98           1\n",
       "Name: Quantity, Length: 127, dtype: int64"
      ]
     },
     "execution_count": 132,
     "metadata": {},
     "output_type": "execute_result"
    }
   ],
   "source": [
    "reci.Quantity.value_counts()"
   ]
  },
  {
   "cell_type": "code",
   "execution_count": 133,
   "metadata": {},
   "outputs": [],
   "source": [
    "# Converting fraction values ands value with fractions in floats\n",
    "a=[]\n",
    "b=[]\n",
    "for i in reci.Quantity:\n",
    "    if ('/') in i:\n",
    "        if (' ') in i:\n",
    "            n=i.split(' ')\n",
    "            num,deno=n[1].split('/')\n",
    "            n1=n[0]\n",
    "            s=(float(num)/float(deno))+float(n1)\n",
    "            a.append(round(s,2))\n",
    "        else:\n",
    "            num,deno=i.split('/')\n",
    "            s=float(num)/float(deno)\n",
    "            a.append(round(s,2))\n",
    "    else:\n",
    "        if(i.isdigit()):\n",
    "            a.append(float(i))\n",
    "        else:\n",
    "            a.append(1)"
   ]
  },
  {
   "cell_type": "code",
   "execution_count": 134,
   "metadata": {},
   "outputs": [
    {
     "data": {
      "text/plain": [
       "36735"
      ]
     },
     "execution_count": 134,
     "metadata": {},
     "output_type": "execute_result"
    }
   ],
   "source": [
    "len(a)"
   ]
  },
  {
   "cell_type": "code",
   "execution_count": 135,
   "metadata": {},
   "outputs": [],
   "source": [
    "# Putting modified quantity content in original DataFrame\n",
    "reci['Quantity']=a"
   ]
  },
  {
   "cell_type": "code",
   "execution_count": 136,
   "metadata": {},
   "outputs": [
    {
     "data": {
      "text/html": [
       "<div>\n",
       "<style scoped>\n",
       "    .dataframe tbody tr th:only-of-type {\n",
       "        vertical-align: middle;\n",
       "    }\n",
       "\n",
       "    .dataframe tbody tr th {\n",
       "        vertical-align: top;\n",
       "    }\n",
       "\n",
       "    .dataframe thead th {\n",
       "        text-align: right;\n",
       "    }\n",
       "</style>\n",
       "<table border=\"1\" class=\"dataframe\">\n",
       "  <thead>\n",
       "    <tr style=\"text-align: right;\">\n",
       "      <th></th>\n",
       "      <th>Recipe_name</th>\n",
       "      <th>Author</th>\n",
       "      <th>Date_published</th>\n",
       "      <th>Category</th>\n",
       "      <th>Cuisine</th>\n",
       "      <th>Prep_time</th>\n",
       "      <th>Cook_time</th>\n",
       "      <th>Serving</th>\n",
       "      <th>Yield</th>\n",
       "      <th>Nutrition</th>\n",
       "      <th>Quantity</th>\n",
       "      <th>Unit</th>\n",
       "      <th>Ingredient</th>\n",
       "      <th>Year</th>\n",
       "    </tr>\n",
       "  </thead>\n",
       "  <tbody>\n",
       "    <tr>\n",
       "      <th>0</th>\n",
       "      <td>Chicken and Strawberry Salad Recipe</td>\n",
       "      <td>TNN</td>\n",
       "      <td>2016-08-28T16:00:47+05:30</td>\n",
       "      <td>Salads</td>\n",
       "      <td>Continental</td>\n",
       "      <td>PT10M</td>\n",
       "      <td>PT20M</td>\n",
       "      <td>4 Servings</td>\n",
       "      <td>1 bowl</td>\n",
       "      <td>352 cal</td>\n",
       "      <td>2.00</td>\n",
       "      <td>tablespoon</td>\n",
       "      <td>walnuts</td>\n",
       "      <td>2016</td>\n",
       "    </tr>\n",
       "    <tr>\n",
       "      <th>1</th>\n",
       "      <td>Chicken and Strawberry Salad Recipe</td>\n",
       "      <td>TNN</td>\n",
       "      <td>2016-08-28T16:00:47+05:30</td>\n",
       "      <td>Salads</td>\n",
       "      <td>Continental</td>\n",
       "      <td>PT10M</td>\n",
       "      <td>PT20M</td>\n",
       "      <td>4 Servings</td>\n",
       "      <td>1 bowl</td>\n",
       "      <td>352 cal</td>\n",
       "      <td>3.00</td>\n",
       "      <td>Numbers</td>\n",
       "      <td>spring onions</td>\n",
       "      <td>2016</td>\n",
       "    </tr>\n",
       "    <tr>\n",
       "      <th>2</th>\n",
       "      <td>Chicken and Strawberry Salad Recipe</td>\n",
       "      <td>TNN</td>\n",
       "      <td>2016-08-28T16:00:47+05:30</td>\n",
       "      <td>Salads</td>\n",
       "      <td>Continental</td>\n",
       "      <td>PT10M</td>\n",
       "      <td>PT20M</td>\n",
       "      <td>4 Servings</td>\n",
       "      <td>1 bowl</td>\n",
       "      <td>352 cal</td>\n",
       "      <td>1.00</td>\n",
       "      <td>tablespoon</td>\n",
       "      <td>white wine vinegar</td>\n",
       "      <td>2016</td>\n",
       "    </tr>\n",
       "    <tr>\n",
       "      <th>3</th>\n",
       "      <td>Chicken and Strawberry Salad Recipe</td>\n",
       "      <td>TNN</td>\n",
       "      <td>2016-08-28T16:00:47+05:30</td>\n",
       "      <td>Salads</td>\n",
       "      <td>Continental</td>\n",
       "      <td>PT10M</td>\n",
       "      <td>PT20M</td>\n",
       "      <td>4 Servings</td>\n",
       "      <td>1 bowl</td>\n",
       "      <td>352 cal</td>\n",
       "      <td>1.00</td>\n",
       "      <td>handful</td>\n",
       "      <td>lettuce looseleaf</td>\n",
       "      <td>2016</td>\n",
       "    </tr>\n",
       "    <tr>\n",
       "      <th>4</th>\n",
       "      <td>Chicken and Strawberry Salad Recipe</td>\n",
       "      <td>TNN</td>\n",
       "      <td>2016-08-28T16:00:47+05:30</td>\n",
       "      <td>Salads</td>\n",
       "      <td>Continental</td>\n",
       "      <td>PT10M</td>\n",
       "      <td>PT20M</td>\n",
       "      <td>4 Servings</td>\n",
       "      <td>1 bowl</td>\n",
       "      <td>352 cal</td>\n",
       "      <td>0.25</td>\n",
       "      <td>teaspoon</td>\n",
       "      <td>garam masala powder</td>\n",
       "      <td>2016</td>\n",
       "    </tr>\n",
       "  </tbody>\n",
       "</table>\n",
       "</div>"
      ],
      "text/plain": [
       "                            Recipe_name Author             Date_published  \\\n",
       "0  Chicken and Strawberry Salad Recipe    TNN  2016-08-28T16:00:47+05:30   \n",
       "1  Chicken and Strawberry Salad Recipe    TNN  2016-08-28T16:00:47+05:30   \n",
       "2  Chicken and Strawberry Salad Recipe    TNN  2016-08-28T16:00:47+05:30   \n",
       "3  Chicken and Strawberry Salad Recipe    TNN  2016-08-28T16:00:47+05:30   \n",
       "4  Chicken and Strawberry Salad Recipe    TNN  2016-08-28T16:00:47+05:30   \n",
       "\n",
       "  Category      Cuisine Prep_time Cook_time     Serving   Yield Nutrition  \\\n",
       "0   Salads  Continental     PT10M     PT20M  4 Servings  1 bowl   352 cal   \n",
       "1   Salads  Continental     PT10M     PT20M  4 Servings  1 bowl   352 cal   \n",
       "2   Salads  Continental     PT10M     PT20M  4 Servings  1 bowl   352 cal   \n",
       "3   Salads  Continental     PT10M     PT20M  4 Servings  1 bowl   352 cal   \n",
       "4   Salads  Continental     PT10M     PT20M  4 Servings  1 bowl   352 cal   \n",
       "\n",
       "   Quantity        Unit           Ingredient  Year  \n",
       "0      2.00  tablespoon              walnuts  2016  \n",
       "1      3.00     Numbers        spring onions  2016  \n",
       "2      1.00  tablespoon   white wine vinegar  2016  \n",
       "3      1.00     handful    lettuce looseleaf  2016  \n",
       "4      0.25    teaspoon  garam masala powder  2016  "
      ]
     },
     "execution_count": 136,
     "metadata": {},
     "output_type": "execute_result"
    }
   ],
   "source": [
    "reci.head()"
   ]
  },
  {
   "cell_type": "code",
   "execution_count": 137,
   "metadata": {},
   "outputs": [],
   "source": [
    "# Cleaning nutrition column\n",
    "reci.Nutrition=reci.Nutrition.str.replace(' cal','')"
   ]
  },
  {
   "cell_type": "code",
   "execution_count": 138,
   "metadata": {},
   "outputs": [
    {
     "data": {
      "text/html": [
       "<div>\n",
       "<style scoped>\n",
       "    .dataframe tbody tr th:only-of-type {\n",
       "        vertical-align: middle;\n",
       "    }\n",
       "\n",
       "    .dataframe tbody tr th {\n",
       "        vertical-align: top;\n",
       "    }\n",
       "\n",
       "    .dataframe thead th {\n",
       "        text-align: right;\n",
       "    }\n",
       "</style>\n",
       "<table border=\"1\" class=\"dataframe\">\n",
       "  <thead>\n",
       "    <tr style=\"text-align: right;\">\n",
       "      <th></th>\n",
       "      <th>Recipe_name</th>\n",
       "      <th>Author</th>\n",
       "      <th>Date_published</th>\n",
       "      <th>Category</th>\n",
       "      <th>Cuisine</th>\n",
       "      <th>Prep_time</th>\n",
       "      <th>Cook_time</th>\n",
       "      <th>Serving</th>\n",
       "      <th>Yield</th>\n",
       "      <th>Nutrition</th>\n",
       "      <th>Quantity</th>\n",
       "      <th>Unit</th>\n",
       "      <th>Ingredient</th>\n",
       "      <th>Year</th>\n",
       "    </tr>\n",
       "  </thead>\n",
       "  <tbody>\n",
       "    <tr>\n",
       "      <th>0</th>\n",
       "      <td>Chicken and Strawberry Salad Recipe</td>\n",
       "      <td>TNN</td>\n",
       "      <td>2016-08-28T16:00:47+05:30</td>\n",
       "      <td>Salads</td>\n",
       "      <td>Continental</td>\n",
       "      <td>PT10M</td>\n",
       "      <td>PT20M</td>\n",
       "      <td>4 Servings</td>\n",
       "      <td>1 bowl</td>\n",
       "      <td>352</td>\n",
       "      <td>2.00</td>\n",
       "      <td>tablespoon</td>\n",
       "      <td>walnuts</td>\n",
       "      <td>2016</td>\n",
       "    </tr>\n",
       "    <tr>\n",
       "      <th>1</th>\n",
       "      <td>Chicken and Strawberry Salad Recipe</td>\n",
       "      <td>TNN</td>\n",
       "      <td>2016-08-28T16:00:47+05:30</td>\n",
       "      <td>Salads</td>\n",
       "      <td>Continental</td>\n",
       "      <td>PT10M</td>\n",
       "      <td>PT20M</td>\n",
       "      <td>4 Servings</td>\n",
       "      <td>1 bowl</td>\n",
       "      <td>352</td>\n",
       "      <td>3.00</td>\n",
       "      <td>Numbers</td>\n",
       "      <td>spring onions</td>\n",
       "      <td>2016</td>\n",
       "    </tr>\n",
       "    <tr>\n",
       "      <th>2</th>\n",
       "      <td>Chicken and Strawberry Salad Recipe</td>\n",
       "      <td>TNN</td>\n",
       "      <td>2016-08-28T16:00:47+05:30</td>\n",
       "      <td>Salads</td>\n",
       "      <td>Continental</td>\n",
       "      <td>PT10M</td>\n",
       "      <td>PT20M</td>\n",
       "      <td>4 Servings</td>\n",
       "      <td>1 bowl</td>\n",
       "      <td>352</td>\n",
       "      <td>1.00</td>\n",
       "      <td>tablespoon</td>\n",
       "      <td>white wine vinegar</td>\n",
       "      <td>2016</td>\n",
       "    </tr>\n",
       "    <tr>\n",
       "      <th>3</th>\n",
       "      <td>Chicken and Strawberry Salad Recipe</td>\n",
       "      <td>TNN</td>\n",
       "      <td>2016-08-28T16:00:47+05:30</td>\n",
       "      <td>Salads</td>\n",
       "      <td>Continental</td>\n",
       "      <td>PT10M</td>\n",
       "      <td>PT20M</td>\n",
       "      <td>4 Servings</td>\n",
       "      <td>1 bowl</td>\n",
       "      <td>352</td>\n",
       "      <td>1.00</td>\n",
       "      <td>handful</td>\n",
       "      <td>lettuce looseleaf</td>\n",
       "      <td>2016</td>\n",
       "    </tr>\n",
       "    <tr>\n",
       "      <th>4</th>\n",
       "      <td>Chicken and Strawberry Salad Recipe</td>\n",
       "      <td>TNN</td>\n",
       "      <td>2016-08-28T16:00:47+05:30</td>\n",
       "      <td>Salads</td>\n",
       "      <td>Continental</td>\n",
       "      <td>PT10M</td>\n",
       "      <td>PT20M</td>\n",
       "      <td>4 Servings</td>\n",
       "      <td>1 bowl</td>\n",
       "      <td>352</td>\n",
       "      <td>0.25</td>\n",
       "      <td>teaspoon</td>\n",
       "      <td>garam masala powder</td>\n",
       "      <td>2016</td>\n",
       "    </tr>\n",
       "  </tbody>\n",
       "</table>\n",
       "</div>"
      ],
      "text/plain": [
       "                            Recipe_name Author             Date_published  \\\n",
       "0  Chicken and Strawberry Salad Recipe    TNN  2016-08-28T16:00:47+05:30   \n",
       "1  Chicken and Strawberry Salad Recipe    TNN  2016-08-28T16:00:47+05:30   \n",
       "2  Chicken and Strawberry Salad Recipe    TNN  2016-08-28T16:00:47+05:30   \n",
       "3  Chicken and Strawberry Salad Recipe    TNN  2016-08-28T16:00:47+05:30   \n",
       "4  Chicken and Strawberry Salad Recipe    TNN  2016-08-28T16:00:47+05:30   \n",
       "\n",
       "  Category      Cuisine Prep_time Cook_time     Serving   Yield Nutrition  \\\n",
       "0   Salads  Continental     PT10M     PT20M  4 Servings  1 bowl       352   \n",
       "1   Salads  Continental     PT10M     PT20M  4 Servings  1 bowl       352   \n",
       "2   Salads  Continental     PT10M     PT20M  4 Servings  1 bowl       352   \n",
       "3   Salads  Continental     PT10M     PT20M  4 Servings  1 bowl       352   \n",
       "4   Salads  Continental     PT10M     PT20M  4 Servings  1 bowl       352   \n",
       "\n",
       "   Quantity        Unit           Ingredient  Year  \n",
       "0      2.00  tablespoon              walnuts  2016  \n",
       "1      3.00     Numbers        spring onions  2016  \n",
       "2      1.00  tablespoon   white wine vinegar  2016  \n",
       "3      1.00     handful    lettuce looseleaf  2016  \n",
       "4      0.25    teaspoon  garam masala powder  2016  "
      ]
     },
     "execution_count": 138,
     "metadata": {},
     "output_type": "execute_result"
    }
   ],
   "source": [
    "reci.head()"
   ]
  },
  {
   "cell_type": "code",
   "execution_count": 139,
   "metadata": {},
   "outputs": [],
   "source": [
    "nut=[]\n",
    "for i in reci.Nutrition:\n",
    "    if(i==''):\n",
    "        pass\n",
    "    else:\n",
    "        nut.append(int(i))"
   ]
  },
  {
   "cell_type": "code",
   "execution_count": 140,
   "metadata": {},
   "outputs": [
    {
     "data": {
      "text/plain": [
       "21.181745746563223"
      ]
     },
     "execution_count": 140,
     "metadata": {},
     "output_type": "execute_result"
    }
   ],
   "source": [
    "np.mean(a)"
   ]
  },
  {
   "cell_type": "code",
   "execution_count": 141,
   "metadata": {},
   "outputs": [],
   "source": [
    "#implementing empty values in nutrition\n",
    "nut1=[]\n",
    "for i in reci.Nutrition:\n",
    "    if(i==''):\n",
    "        nut1.append(356.44)\n",
    "    else:\n",
    "        nut1.append(float(i))"
   ]
  },
  {
   "cell_type": "code",
   "execution_count": 142,
   "metadata": {},
   "outputs": [],
   "source": [
    "#Putting modified values in original DataFrame\n",
    "reci.Nutrition=nut1"
   ]
  },
  {
   "cell_type": "code",
   "execution_count": 143,
   "metadata": {},
   "outputs": [
    {
     "data": {
      "text/plain": [
       "4 Servings     10111\n",
       "2 Servings      5675\n",
       "6 Servings      4322\n",
       "5 Servings      3865\n",
       " Servings       3297\n",
       "8 Servings      3095\n",
       "3 Servings      2641\n",
       "10 Servings     1574\n",
       "7 Servings       610\n",
       "1 Servings       546\n",
       "12 Servings      363\n",
       "15 Servings      315\n",
       "20 Servings      147\n",
       "16 Servings       42\n",
       "9 Servings        37\n",
       "14 Servings       29\n",
       "11 Servings       28\n",
       "13 Servings       17\n",
       "17 Servings       16\n",
       "18 Servings        5\n",
       "Name: Serving, dtype: int64"
      ]
     },
     "execution_count": 143,
     "metadata": {},
     "output_type": "execute_result"
    }
   ],
   "source": [
    "reci.Serving.value_counts()"
   ]
  },
  {
   "cell_type": "code",
   "execution_count": 144,
   "metadata": {},
   "outputs": [],
   "source": [
    "#Cleaning Servings\n",
    "reci.Serving=reci.Serving.str.replace(' Servings','')"
   ]
  },
  {
   "cell_type": "code",
   "execution_count": 145,
   "metadata": {},
   "outputs": [],
   "source": [
    "a=[]\n",
    "for i in reci.Serving:\n",
    "    if(i.isdigit()):\n",
    "        a.append(int(i))"
   ]
  },
  {
   "cell_type": "code",
   "execution_count": 146,
   "metadata": {},
   "outputs": [
    {
     "data": {
      "text/plain": [
       "4.922931993540283"
      ]
     },
     "execution_count": 146,
     "metadata": {},
     "output_type": "execute_result"
    }
   ],
   "source": [
    "np.mean(a)"
   ]
  },
  {
   "cell_type": "code",
   "execution_count": 147,
   "metadata": {},
   "outputs": [],
   "source": [
    "# Imputing empty values in Serving\n",
    "serv=[]\n",
    "for i in reci.Serving:\n",
    "    if(i.isdigit()):\n",
    "        serv.append(float(i))\n",
    "    else:\n",
    "        serv.append(4.92)"
   ]
  },
  {
   "cell_type": "code",
   "execution_count": 148,
   "metadata": {},
   "outputs": [],
   "source": [
    "# Putting modified Serving column in DataFrame\n",
    "reci.Serving=serv"
   ]
  },
  {
   "cell_type": "code",
   "execution_count": 149,
   "metadata": {},
   "outputs": [
    {
     "name": "stdout",
     "output_type": "stream",
     "text": [
      "<class 'pandas.core.frame.DataFrame'>\n",
      "RangeIndex: 36735 entries, 0 to 36734\n",
      "Data columns (total 14 columns):\n",
      "Recipe_name       36735 non-null object\n",
      "Author            36735 non-null object\n",
      "Date_published    36735 non-null object\n",
      "Category          36735 non-null object\n",
      "Cuisine           33422 non-null object\n",
      "Prep_time         36735 non-null object\n",
      "Cook_time         36735 non-null object\n",
      "Serving           36735 non-null float64\n",
      "Yield             36735 non-null object\n",
      "Nutrition         36735 non-null float64\n",
      "Quantity          36735 non-null float64\n",
      "Unit              36735 non-null object\n",
      "Ingredient        36735 non-null object\n",
      "Year              36735 non-null object\n",
      "dtypes: float64(3), object(11)\n",
      "memory usage: 3.9+ MB\n"
     ]
    }
   ],
   "source": [
    "reci.info()"
   ]
  },
  {
   "cell_type": "code",
   "execution_count": 150,
   "metadata": {},
   "outputs": [
    {
     "data": {
      "text/plain": [
       "PT30M     5468\n",
       "PT40M     4562\n",
       "PT25M     3762\n",
       "PT35M     3714\n",
       "PTNaNM    3353\n",
       "PT20M     2881\n",
       "PT45M     2541\n",
       "PT50M     2226\n",
       "PT60M     1894\n",
       "PT70M     1267\n",
       "PT55M     1092\n",
       "PT15M      995\n",
       "PT80M      767\n",
       "PT65M      584\n",
       "PT75M      326\n",
       "PT90M      194\n",
       "PT10M      176\n",
       "PT140M     139\n",
       "PT28M      119\n",
       "PT130M      71\n",
       "PT17M       67\n",
       "PT100M      55\n",
       "PT54M       48\n",
       "PT135M      42\n",
       "PT95M       34\n",
       "PT85M       33\n",
       "PT110M      31\n",
       "PT145M      30\n",
       "PT275M      28\n",
       "PT22M       27\n",
       "PT68M       26\n",
       "PT59M       22\n",
       "PT27M       21\n",
       "PT56M       18\n",
       "PT33M       15\n",
       "PT105M      15\n",
       "PT225M      12\n",
       "PT18M       12\n",
       "PT120M      12\n",
       "PT195M      11\n",
       "PT49M        8\n",
       "PT37M        8\n",
       "PT7M         7\n",
       "PT150M       7\n",
       "PT14M        6\n",
       "PT5M         6\n",
       "PT330M       3\n",
       "Name: Cook_time, dtype: int64"
      ]
     },
     "execution_count": 150,
     "metadata": {},
     "output_type": "execute_result"
    }
   ],
   "source": [
    "reci.Cook_time.value_counts()"
   ]
  },
  {
   "cell_type": "code",
   "execution_count": 151,
   "metadata": {},
   "outputs": [],
   "source": [
    "# Cleaning Cook Time\n",
    "reci.Cook_time=reci.Cook_time.str.replace('PT','')\n",
    "reci.Cook_time=reci.Cook_time.str.replace('M','')"
   ]
  },
  {
   "cell_type": "code",
   "execution_count": 152,
   "metadata": {},
   "outputs": [],
   "source": [
    "reci.Cook_time=reci.Cook_time.astype('float')"
   ]
  },
  {
   "cell_type": "code",
   "execution_count": 153,
   "metadata": {},
   "outputs": [
    {
     "data": {
      "text/plain": [
       "Recipe_name          0\n",
       "Author               0\n",
       "Date_published       0\n",
       "Category             0\n",
       "Cuisine           3313\n",
       "Prep_time            0\n",
       "Cook_time         3353\n",
       "Serving              0\n",
       "Yield                0\n",
       "Nutrition            0\n",
       "Quantity             0\n",
       "Unit                 0\n",
       "Ingredient           0\n",
       "Year                 0\n",
       "dtype: int64"
      ]
     },
     "execution_count": 153,
     "metadata": {},
     "output_type": "execute_result"
    }
   ],
   "source": [
    "reci.isnull().sum()"
   ]
  },
  {
   "cell_type": "code",
   "execution_count": 154,
   "metadata": {},
   "outputs": [
    {
     "data": {
      "text/plain": [
       "40.717901863279614"
      ]
     },
     "execution_count": 154,
     "metadata": {},
     "output_type": "execute_result"
    }
   ],
   "source": [
    "reci.Cook_time.mean()"
   ]
  },
  {
   "cell_type": "code",
   "execution_count": 155,
   "metadata": {},
   "outputs": [],
   "source": [
    "# Imputing Cook Time\n",
    "reci.Cook_time.fillna(value=40.71,inplace=True)"
   ]
  },
  {
   "cell_type": "code",
   "execution_count": 156,
   "metadata": {},
   "outputs": [
    {
     "data": {
      "text/plain": [
       "Recipe_name          0\n",
       "Author               0\n",
       "Date_published       0\n",
       "Category             0\n",
       "Cuisine           3313\n",
       "Prep_time            0\n",
       "Cook_time            0\n",
       "Serving              0\n",
       "Yield                0\n",
       "Nutrition            0\n",
       "Quantity             0\n",
       "Unit                 0\n",
       "Ingredient           0\n",
       "Year                 0\n",
       "dtype: int64"
      ]
     },
     "execution_count": 156,
     "metadata": {},
     "output_type": "execute_result"
    }
   ],
   "source": [
    "reci.isnull().sum()"
   ]
  },
  {
   "cell_type": "code",
   "execution_count": 157,
   "metadata": {},
   "outputs": [
    {
     "data": {
      "text/plain": [
       "PT10M     12335\n",
       "PT15M      9694\n",
       "PT20M      6230\n",
       "PTM        3313\n",
       "PT5M       1904\n",
       "PT30M      1574\n",
       "PT25M       663\n",
       "PT40M       249\n",
       "PT60M       153\n",
       "PT35M       136\n",
       "PT45M        81\n",
       "PT90M        62\n",
       "PT50M        60\n",
       "PT14M        48\n",
       "PT65M        46\n",
       "PT10-M       40\n",
       "PT8M         30\n",
       "PT120M       24\n",
       "PT75M        22\n",
       "PT55M        19\n",
       "PT26M        18\n",
       "PT13M        15\n",
       "PT3M          8\n",
       "PT2M          7\n",
       "PT12M         4\n",
       "Name: Prep_time, dtype: int64"
      ]
     },
     "execution_count": 157,
     "metadata": {},
     "output_type": "execute_result"
    }
   ],
   "source": [
    "reci.Prep_time.value_counts()"
   ]
  },
  {
   "cell_type": "code",
   "execution_count": 158,
   "metadata": {},
   "outputs": [],
   "source": [
    "# CLeaning Prep Time\n",
    "reci.Prep_time=reci.Prep_time.str.replace('PT','')\n",
    "reci.Prep_time=reci.Prep_time.str.replace('M','')\n",
    "reci.Prep_time=reci.Prep_time.str.replace('-','')"
   ]
  },
  {
   "cell_type": "code",
   "execution_count": 159,
   "metadata": {},
   "outputs": [],
   "source": [
    "\n",
    "ppt=[]\n",
    "for i in reci.Prep_time:\n",
    "    if(i.isdigit()):\n",
    "        ppt.append(float(i))\n",
    "    else:\n",
    "        ppt.append(np.nan)"
   ]
  },
  {
   "cell_type": "code",
   "execution_count": 160,
   "metadata": {},
   "outputs": [],
   "source": [
    "# Putting modified prep time in original dataframe\n",
    "reci.Prep_time=ppt"
   ]
  },
  {
   "cell_type": "code",
   "execution_count": 161,
   "metadata": {},
   "outputs": [
    {
     "data": {
      "text/plain": [
       "15.361917299982048"
      ]
     },
     "execution_count": 161,
     "metadata": {},
     "output_type": "execute_result"
    }
   ],
   "source": [
    "reci.Prep_time.mean()"
   ]
  },
  {
   "cell_type": "code",
   "execution_count": 162,
   "metadata": {},
   "outputs": [
    {
     "data": {
      "text/plain": [
       "Recipe_name          0\n",
       "Author               0\n",
       "Date_published       0\n",
       "Category             0\n",
       "Cuisine           3313\n",
       "Prep_time         3313\n",
       "Cook_time            0\n",
       "Serving              0\n",
       "Yield                0\n",
       "Nutrition            0\n",
       "Quantity             0\n",
       "Unit                 0\n",
       "Ingredient           0\n",
       "Year                 0\n",
       "dtype: int64"
      ]
     },
     "execution_count": 162,
     "metadata": {},
     "output_type": "execute_result"
    }
   ],
   "source": [
    "reci.isnull().sum()"
   ]
  },
  {
   "cell_type": "code",
   "execution_count": 163,
   "metadata": {},
   "outputs": [],
   "source": [
    "# Imputing null values\n",
    "reci.Prep_time.fillna(value=15.36,inplace=True)"
   ]
  },
  {
   "cell_type": "code",
   "execution_count": 164,
   "metadata": {},
   "outputs": [
    {
     "data": {
      "text/plain": [
       "North Indian     12466\n",
       "Continental       4748\n",
       "South Indian      3540\n",
       "American          1957\n",
       "Fusion            1665\n",
       "Chinese           1617\n",
       "Mughlai           1123\n",
       "Italian            975\n",
       "Mediterranean      817\n",
       "Gujarati           602\n",
       "Maharashtrian      573\n",
       "Punjabi            548\n",
       "Thai               491\n",
       "Rajasthani         429\n",
       "French             373\n",
       "Bengali            331\n",
       "Kashmiri           322\n",
       "Mexican            215\n",
       "Asian              143\n",
       "Jain               140\n",
       "North Eastern      108\n",
       "Pakistani           61\n",
       "Parsi               31\n",
       "Sattvik             27\n",
       "Indian              26\n",
       "Goan                21\n",
       "European            20\n",
       "Spanish             15\n",
       "Vietnamese          12\n",
       "Turkish              9\n",
       "Afghani              9\n",
       "Fast food            8\n",
       "Name: Cuisine, dtype: int64"
      ]
     },
     "execution_count": 164,
     "metadata": {},
     "output_type": "execute_result"
    }
   ],
   "source": [
    "reci.Cuisine.value_counts()"
   ]
  },
  {
   "cell_type": "code",
   "execution_count": 165,
   "metadata": {},
   "outputs": [],
   "source": [
    "# Imputing null values\n",
    "reci.Cuisine.fillna('North Indian',inplace=True)"
   ]
  },
  {
   "cell_type": "code",
   "execution_count": 166,
   "metadata": {},
   "outputs": [],
   "source": [
    "# COnverting all Ingredient values in lower case to avoid repetition\n",
    "ing_new=[]\n",
    "for i in reci.Ingredient:\n",
    "    ing_new.append(i.lower())"
   ]
  },
  {
   "cell_type": "code",
   "execution_count": 167,
   "metadata": {},
   "outputs": [],
   "source": [
    "reci.Ingredient=ing_new"
   ]
  },
  {
   "cell_type": "code",
   "execution_count": 168,
   "metadata": {},
   "outputs": [
    {
     "name": "stdout",
     "output_type": "stream",
     "text": [
      "<class 'pandas.core.frame.DataFrame'>\n",
      "RangeIndex: 36735 entries, 0 to 36734\n",
      "Data columns (total 14 columns):\n",
      "Recipe_name       36735 non-null object\n",
      "Author            36735 non-null object\n",
      "Date_published    36735 non-null object\n",
      "Category          36735 non-null object\n",
      "Cuisine           36735 non-null object\n",
      "Prep_time         36735 non-null float64\n",
      "Cook_time         36735 non-null float64\n",
      "Serving           36735 non-null float64\n",
      "Yield             36735 non-null object\n",
      "Nutrition         36735 non-null float64\n",
      "Quantity          36735 non-null float64\n",
      "Unit              36735 non-null object\n",
      "Ingredient        36735 non-null object\n",
      "Year              36735 non-null object\n",
      "dtypes: float64(5), object(9)\n",
      "memory usage: 3.9+ MB\n"
     ]
    }
   ],
   "source": [
    "reci.info()"
   ]
  },
  {
   "cell_type": "code",
   "execution_count": 169,
   "metadata": {},
   "outputs": [],
   "source": [
    "# Splitting Target and Predictors\n",
    "x=reci.drop(['Recipe_name','Author','Date_published','Category','Yield'],axis=1)\n",
    "y=reci.Category"
   ]
  },
  {
   "cell_type": "code",
   "execution_count": 170,
   "metadata": {},
   "outputs": [],
   "source": [
    "dum_X=pd.get_dummies(x,drop_first=True)"
   ]
  },
  {
   "cell_type": "code",
   "execution_count": 171,
   "metadata": {},
   "outputs": [],
   "source": [
    "from sklearn.preprocessing import StandardScaler\n",
    "\n",
    "sc=StandardScaler()"
   ]
  },
  {
   "cell_type": "code",
   "execution_count": 172,
   "metadata": {},
   "outputs": [
    {
     "name": "stderr",
     "output_type": "stream",
     "text": [
      "E:\\Users\\Soham Raut\\Anaconda3\\lib\\site-packages\\sklearn\\preprocessing\\data.py:625: DataConversionWarning: Data with input dtype uint8, float64 were all converted to float64 by StandardScaler.\n",
      "  return self.partial_fit(X, y)\n",
      "E:\\Users\\Soham Raut\\Anaconda3\\lib\\site-packages\\sklearn\\base.py:462: DataConversionWarning: Data with input dtype uint8, float64 were all converted to float64 by StandardScaler.\n",
      "  return self.fit(X, **fit_params).transform(X)\n"
     ]
    }
   ],
   "source": [
    "# Scaling\n",
    "scaled_x=pd.DataFrame(sc.fit_transform(dum_X),columns=dum_X.columns)"
   ]
  },
  {
   "cell_type": "code",
   "execution_count": 173,
   "metadata": {},
   "outputs": [
    {
     "data": {
      "text/html": [
       "<div>\n",
       "<style scoped>\n",
       "    .dataframe tbody tr th:only-of-type {\n",
       "        vertical-align: middle;\n",
       "    }\n",
       "\n",
       "    .dataframe tbody tr th {\n",
       "        vertical-align: top;\n",
       "    }\n",
       "\n",
       "    .dataframe thead th {\n",
       "        text-align: right;\n",
       "    }\n",
       "</style>\n",
       "<table border=\"1\" class=\"dataframe\">\n",
       "  <thead>\n",
       "    <tr style=\"text-align: right;\">\n",
       "      <th></th>\n",
       "      <th>Prep_time</th>\n",
       "      <th>Cook_time</th>\n",
       "      <th>Serving</th>\n",
       "      <th>Nutrition</th>\n",
       "      <th>Quantity</th>\n",
       "      <th>Cuisine_American</th>\n",
       "      <th>Cuisine_Asian</th>\n",
       "      <th>Cuisine_Bengali</th>\n",
       "      <th>Cuisine_Chinese</th>\n",
       "      <th>Cuisine_Continental</th>\n",
       "      <th>...</th>\n",
       "      <th>Ingredient_yellow moong dal</th>\n",
       "      <th>Ingredient_yellow onion</th>\n",
       "      <th>Ingredient_yellow pepper</th>\n",
       "      <th>Ingredient_yellow tomato</th>\n",
       "      <th>Ingredient_yellow yam</th>\n",
       "      <th>Ingredient_yellow zucchini</th>\n",
       "      <th>Ingredient_yoghurt curd</th>\n",
       "      <th>Ingredient_zucchini</th>\n",
       "      <th>Year_2017</th>\n",
       "      <th>Year_2018</th>\n",
       "    </tr>\n",
       "  </thead>\n",
       "  <tbody>\n",
       "    <tr>\n",
       "      <th>0</th>\n",
       "      <td>-0.63955</td>\n",
       "      <td>-1.048776</td>\n",
       "      <td>-0.353766</td>\n",
       "      <td>-0.024787</td>\n",
       "      <td>-0.244542</td>\n",
       "      <td>-0.237216</td>\n",
       "      <td>-0.062514</td>\n",
       "      <td>-0.095354</td>\n",
       "      <td>-0.21458</td>\n",
       "      <td>2.595562</td>\n",
       "      <td>...</td>\n",
       "      <td>-0.009037</td>\n",
       "      <td>-0.005218</td>\n",
       "      <td>-0.015654</td>\n",
       "      <td>-0.005218</td>\n",
       "      <td>-0.005218</td>\n",
       "      <td>-0.005218</td>\n",
       "      <td>-0.112486</td>\n",
       "      <td>-0.017307</td>\n",
       "      <td>-0.824252</td>\n",
       "      <td>-0.184239</td>\n",
       "    </tr>\n",
       "    <tr>\n",
       "      <th>1</th>\n",
       "      <td>-0.63955</td>\n",
       "      <td>-1.048776</td>\n",
       "      <td>-0.353766</td>\n",
       "      <td>-0.024787</td>\n",
       "      <td>-0.231793</td>\n",
       "      <td>-0.237216</td>\n",
       "      <td>-0.062514</td>\n",
       "      <td>-0.095354</td>\n",
       "      <td>-0.21458</td>\n",
       "      <td>2.595562</td>\n",
       "      <td>...</td>\n",
       "      <td>-0.009037</td>\n",
       "      <td>-0.005218</td>\n",
       "      <td>-0.015654</td>\n",
       "      <td>-0.005218</td>\n",
       "      <td>-0.005218</td>\n",
       "      <td>-0.005218</td>\n",
       "      <td>-0.112486</td>\n",
       "      <td>-0.017307</td>\n",
       "      <td>-0.824252</td>\n",
       "      <td>-0.184239</td>\n",
       "    </tr>\n",
       "    <tr>\n",
       "      <th>2</th>\n",
       "      <td>-0.63955</td>\n",
       "      <td>-1.048776</td>\n",
       "      <td>-0.353766</td>\n",
       "      <td>-0.024787</td>\n",
       "      <td>-0.257291</td>\n",
       "      <td>-0.237216</td>\n",
       "      <td>-0.062514</td>\n",
       "      <td>-0.095354</td>\n",
       "      <td>-0.21458</td>\n",
       "      <td>2.595562</td>\n",
       "      <td>...</td>\n",
       "      <td>-0.009037</td>\n",
       "      <td>-0.005218</td>\n",
       "      <td>-0.015654</td>\n",
       "      <td>-0.005218</td>\n",
       "      <td>-0.005218</td>\n",
       "      <td>-0.005218</td>\n",
       "      <td>-0.112486</td>\n",
       "      <td>-0.017307</td>\n",
       "      <td>-0.824252</td>\n",
       "      <td>-0.184239</td>\n",
       "    </tr>\n",
       "    <tr>\n",
       "      <th>3</th>\n",
       "      <td>-0.63955</td>\n",
       "      <td>-1.048776</td>\n",
       "      <td>-0.353766</td>\n",
       "      <td>-0.024787</td>\n",
       "      <td>-0.257291</td>\n",
       "      <td>-0.237216</td>\n",
       "      <td>-0.062514</td>\n",
       "      <td>-0.095354</td>\n",
       "      <td>-0.21458</td>\n",
       "      <td>2.595562</td>\n",
       "      <td>...</td>\n",
       "      <td>-0.009037</td>\n",
       "      <td>-0.005218</td>\n",
       "      <td>-0.015654</td>\n",
       "      <td>-0.005218</td>\n",
       "      <td>-0.005218</td>\n",
       "      <td>-0.005218</td>\n",
       "      <td>-0.112486</td>\n",
       "      <td>-0.017307</td>\n",
       "      <td>-0.824252</td>\n",
       "      <td>-0.184239</td>\n",
       "    </tr>\n",
       "    <tr>\n",
       "      <th>4</th>\n",
       "      <td>-0.63955</td>\n",
       "      <td>-1.048776</td>\n",
       "      <td>-0.353766</td>\n",
       "      <td>-0.024787</td>\n",
       "      <td>-0.266852</td>\n",
       "      <td>-0.237216</td>\n",
       "      <td>-0.062514</td>\n",
       "      <td>-0.095354</td>\n",
       "      <td>-0.21458</td>\n",
       "      <td>2.595562</td>\n",
       "      <td>...</td>\n",
       "      <td>-0.009037</td>\n",
       "      <td>-0.005218</td>\n",
       "      <td>-0.015654</td>\n",
       "      <td>-0.005218</td>\n",
       "      <td>-0.005218</td>\n",
       "      <td>-0.005218</td>\n",
       "      <td>-0.112486</td>\n",
       "      <td>-0.017307</td>\n",
       "      <td>-0.824252</td>\n",
       "      <td>-0.184239</td>\n",
       "    </tr>\n",
       "  </tbody>\n",
       "</table>\n",
       "<p>5 rows × 1103 columns</p>\n",
       "</div>"
      ],
      "text/plain": [
       "   Prep_time  Cook_time   Serving  Nutrition  Quantity  Cuisine_American  \\\n",
       "0   -0.63955  -1.048776 -0.353766  -0.024787 -0.244542         -0.237216   \n",
       "1   -0.63955  -1.048776 -0.353766  -0.024787 -0.231793         -0.237216   \n",
       "2   -0.63955  -1.048776 -0.353766  -0.024787 -0.257291         -0.237216   \n",
       "3   -0.63955  -1.048776 -0.353766  -0.024787 -0.257291         -0.237216   \n",
       "4   -0.63955  -1.048776 -0.353766  -0.024787 -0.266852         -0.237216   \n",
       "\n",
       "   Cuisine_Asian  Cuisine_Bengali  Cuisine_Chinese  Cuisine_Continental  \\\n",
       "0      -0.062514        -0.095354         -0.21458             2.595562   \n",
       "1      -0.062514        -0.095354         -0.21458             2.595562   \n",
       "2      -0.062514        -0.095354         -0.21458             2.595562   \n",
       "3      -0.062514        -0.095354         -0.21458             2.595562   \n",
       "4      -0.062514        -0.095354         -0.21458             2.595562   \n",
       "\n",
       "     ...      Ingredient_yellow moong dal  Ingredient_yellow onion  \\\n",
       "0    ...                        -0.009037                -0.005218   \n",
       "1    ...                        -0.009037                -0.005218   \n",
       "2    ...                        -0.009037                -0.005218   \n",
       "3    ...                        -0.009037                -0.005218   \n",
       "4    ...                        -0.009037                -0.005218   \n",
       "\n",
       "   Ingredient_yellow pepper  Ingredient_yellow tomato  Ingredient_yellow yam  \\\n",
       "0                 -0.015654                 -0.005218              -0.005218   \n",
       "1                 -0.015654                 -0.005218              -0.005218   \n",
       "2                 -0.015654                 -0.005218              -0.005218   \n",
       "3                 -0.015654                 -0.005218              -0.005218   \n",
       "4                 -0.015654                 -0.005218              -0.005218   \n",
       "\n",
       "   Ingredient_yellow zucchini  Ingredient_yoghurt curd  Ingredient_zucchini  \\\n",
       "0                   -0.005218                -0.112486            -0.017307   \n",
       "1                   -0.005218                -0.112486            -0.017307   \n",
       "2                   -0.005218                -0.112486            -0.017307   \n",
       "3                   -0.005218                -0.112486            -0.017307   \n",
       "4                   -0.005218                -0.112486            -0.017307   \n",
       "\n",
       "   Year_2017  Year_2018  \n",
       "0  -0.824252  -0.184239  \n",
       "1  -0.824252  -0.184239  \n",
       "2  -0.824252  -0.184239  \n",
       "3  -0.824252  -0.184239  \n",
       "4  -0.824252  -0.184239  \n",
       "\n",
       "[5 rows x 1103 columns]"
      ]
     },
     "execution_count": 173,
     "metadata": {},
     "output_type": "execute_result"
    }
   ],
   "source": [
    "scaled_x.head()"
   ]
  },
  {
   "cell_type": "code",
   "execution_count": 174,
   "metadata": {},
   "outputs": [],
   "source": [
    "#Splitting in train set and test set\n",
    "from sklearn.model_selection import train_test_split\n",
    "\n",
    "x_train,x_test,y_train,y_test=train_test_split(scaled_x,y,test_size=0.3,random_state=10)"
   ]
  },
  {
   "cell_type": "code",
   "execution_count": 175,
   "metadata": {},
   "outputs": [
    {
     "name": "stdout",
     "output_type": "stream",
     "text": [
      "Training Score:-\n",
      "0.9906276736408183\n",
      "Testing Score:-\n",
      "0.9813084112149533\n",
      "Cohen Kappa Score\n",
      "0.9770549023418993\n"
     ]
    }
   ],
   "source": [
    "# Aplying Decision Tree\n",
    "from sklearn.tree import DecisionTreeClassifier\n",
    "\n",
    "dt=DecisionTreeClassifier(max_depth=24)\n",
    "\n",
    "pred_dt=dt.fit(x_train,y_train).predict(x_test)\n",
    "\n",
    "print('Training Score:-')\n",
    "print(dt.score(x_train,y_train))\n",
    "print('Testing Score:-')\n",
    "print(dt.score(x_test,y_test))\n",
    "print('Cohen Kappa Score')\n",
    "print(cohen_kappa_score(pred_dt,y_test))"
   ]
  },
  {
   "cell_type": "code",
   "execution_count": 176,
   "metadata": {},
   "outputs": [],
   "source": [
    "from sklearn.model_selection import GridSearchCV"
   ]
  },
  {
   "cell_type": "code",
   "execution_count": 177,
   "metadata": {},
   "outputs": [
    {
     "name": "stderr",
     "output_type": "stream",
     "text": [
      "E:\\Users\\Soham Raut\\Anaconda3\\lib\\site-packages\\sklearn\\model_selection\\_split.py:652: Warning: The least populated class in y has only 3 members, which is too few. The minimum number of members in any class cannot be less than n_splits=5.\n",
      "  % (min_groups, self.n_splits)), Warning)\n"
     ]
    },
    {
     "name": "stdout",
     "output_type": "stream",
     "text": [
      "0.9647273858598429\n",
      "{'max_depth': 24}\n"
     ]
    }
   ],
   "source": [
    "#Optimal value for max_depth\n",
    "params={'max_depth':np.arange(1,25)}\n",
    "\n",
    "model_grid=GridSearchCV(dt,params,cv=5)\n",
    "model_grid.fit(x_train,y_train)\n",
    "print(model_grid.best_score_)\n",
    "print(model_grid.best_params_)"
   ]
  },
  {
   "cell_type": "code",
   "execution_count": 178,
   "metadata": {},
   "outputs": [
    {
     "name": "stdout",
     "output_type": "stream",
     "text": [
      "[[3512    9    7    0    4   13    0   10    1    0    7   21    0]\n",
      " [  11  690    0    0    5    0    1    2    2    0    4    1    0]\n",
      " [   0    0  230    0    2    0    0    0    0    0    0    0    0]\n",
      " [   0    0    0   84    0    0    0    0    0    0    0    0    0]\n",
      " [  10    0    0    0  884    0    0    0    0    0    0    0    0]\n",
      " [   2    0    0    0    0  769    0    2    0    0    0    1    0]\n",
      " [   0    0    0    0    0    0   51    0    0    0    0    0    0]\n",
      " [  25   11    0    0    2    5    0 2006    0    0    2   20    0]\n",
      " [   4    5    0    0    0    0    0    0  192    0    0    2    0]\n",
      " [   0    0    0    0    0    0    0    0    0   46    0    0    0]\n",
      " [   0    0    0    0    2    0    0    0    0    0  608    0    0]\n",
      " [   6    1    0    0    6    0    0    0    0    0    0 1738    0]\n",
      " [   0    0    0    0    0    0    0    0    0    0    0    0    5]]\n"
     ]
    }
   ],
   "source": [
    "from sklearn.metrics import confusion_matrix\n",
    "\n",
    "print(confusion_matrix(pred_dt,y_test))"
   ]
  },
  {
   "cell_type": "code",
   "execution_count": 179,
   "metadata": {},
   "outputs": [],
   "source": [
    "# Applying Rabdom forest \n",
    "from sklearn.ensemble import RandomForestClassifier\n",
    "\n",
    "rf=RandomForestClassifier(max_depth=24)"
   ]
  },
  {
   "cell_type": "code",
   "execution_count": 180,
   "metadata": {},
   "outputs": [
    {
     "name": "stderr",
     "output_type": "stream",
     "text": [
      "E:\\Users\\Soham Raut\\Anaconda3\\lib\\site-packages\\sklearn\\ensemble\\forest.py:246: FutureWarning: The default value of n_estimators will change from 10 in version 0.20 to 100 in 0.22.\n",
      "  \"10 in version 0.20 to 100 in 0.22.\", FutureWarning)\n"
     ]
    }
   ],
   "source": [
    "pred=rf.fit(x_train,y_train).predict(x_test)"
   ]
  },
  {
   "cell_type": "code",
   "execution_count": 181,
   "metadata": {},
   "outputs": [],
   "source": [
    "from sklearn.metrics import accuracy_score,cohen_kappa_score"
   ]
  },
  {
   "cell_type": "code",
   "execution_count": 182,
   "metadata": {},
   "outputs": [
    {
     "name": "stdout",
     "output_type": "stream",
     "text": [
      "Training Score:-\n",
      "0.7594306603406704\n",
      "Testing Score:-\n",
      "0.6627347790581617\n",
      "Cohen Kappa Score\n",
      "0.5607460176746806\n"
     ]
    }
   ],
   "source": [
    "print('Training Score:-')\n",
    "print(rf.score(x_train,y_train))\n",
    "print('Testing Score:-')\n",
    "print(rf.score(x_test,y_test))\n",
    "print('Cohen Kappa Score')\n",
    "print(cohen_kappa_score(pred,y_test))"
   ]
  },
  {
   "cell_type": "code",
   "execution_count": 183,
   "metadata": {},
   "outputs": [],
   "source": [
    "# Boosting on Random Forest\n",
    "from sklearn.ensemble import AdaBoostClassifier\n",
    "\n",
    "ada=AdaBoostClassifier(base_estimator=rf)\n",
    "\n",
    "pred_ad=ada.fit(x_train,y_train).predict(x_test)\n",
    "\n"
   ]
  },
  {
   "cell_type": "code",
   "execution_count": 184,
   "metadata": {},
   "outputs": [
    {
     "name": "stdout",
     "output_type": "stream",
     "text": [
      "Training Score:-\n",
      "0.9923776930854787\n",
      "Testing Score:-\n",
      "0.7983849015515834\n",
      "Cohen Kappa Score\n",
      "0.7453388059745263\n"
     ]
    }
   ],
   "source": [
    "print('Training Score:-')\n",
    "print(ada.score(x_train,y_train))\n",
    "print('Testing Score:-')\n",
    "print(ada.score(x_test,y_test))\n",
    "print('Cohen Kappa Score')\n",
    "print(cohen_kappa_score(pred_ad,y_test))"
   ]
  },
  {
   "cell_type": "code",
   "execution_count": null,
   "metadata": {},
   "outputs": [],
   "source": []
  },
  {
   "cell_type": "code",
   "execution_count": null,
   "metadata": {},
   "outputs": [],
   "source": []
  }
 ],
 "metadata": {
  "kernelspec": {
   "display_name": "Python 3",
   "language": "python",
   "name": "python3"
  },
  "language_info": {
   "codemirror_mode": {
    "name": "ipython",
    "version": 3
   },
   "file_extension": ".py",
   "mimetype": "text/x-python",
   "name": "python",
   "nbconvert_exporter": "python",
   "pygments_lexer": "ipython3",
   "version": "3.7.1"
  }
 },
 "nbformat": 4,
 "nbformat_minor": 2
}
